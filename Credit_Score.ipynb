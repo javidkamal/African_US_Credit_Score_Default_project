{
 "cells": [
  {
   "cell_type": "code",
   "execution_count": 1,
   "id": "68ec5d89-abb8-4e75-bf1e-46e89d291e4a",
   "metadata": {},
   "outputs": [
    {
     "name": "stdout",
     "output_type": "stream",
     "text": [
      "X_train shape:  (68654, 6) y_train shape:  (68654,)\n",
      "Logistic regression Coef:  [[-1.93499439e-05  2.40111704e-05 -3.57958673e-01 -5.79665473e-03\n",
      "  -8.19097245e-03  5.35548418e-03]]\n",
      "Logistic regression Intercept:  [-0.0491776]\n",
      "P(y=1∣X)= 1/(1+ ((e) ^ (-)(intercept + coefficient_1 * x_1 + coefficient_2 * x_2)\n"
     ]
    }
   ],
   "source": [
    "import pandas as pd\n",
    "from sklearn.ensemble import RandomForestClassifier\n",
    "\n",
    "# Load data\n",
    "from sklearn.linear_model import LogisticRegression\n",
    "\n",
    "train_data = pd.read_csv('Train.csv')\n",
    "test_data = pd.read_csv('Test.csv')\n",
    "\n",
    "# To be used later for making submission.csv file\n",
    "test_df = pd.read_csv('Test.csv')\n",
    "\n",
    "# Getting rid of unwanted data columns not used in calculating the target value\n",
    "train_data.drop(['ID', 'customer_id','country_id','tbl_loan_id','lender_id','New_versus_Repeat', 'disbursement_date', 'due_date'], axis=1, inplace=True)\n",
    "test_data.drop(['ID', 'customer_id','country_id','tbl_loan_id', 'lender_id', 'New_versus_Repeat', 'disbursement_date', 'due_date'], axis=1, inplace = True)\n",
    "\n",
    "# making dummy variables of train and test data dataframes\n",
    "train_data_dummy = pd.get_dummies('loan_type')\n",
    "test_data_dummy = pd.get_dummies('loan_type')\n",
    "\n",
    "# Concatenating the dummy variable to the train data and test data dataframe\n",
    "train_data = pd.concat([train_data, train_data_dummy], axis=1)\n",
    "test_data = pd.concat([test_data, test_data_dummy], axis=1)\n",
    "\n",
    "# Split features and extract target\n",
    "y_train = train_data['target']\n",
    "\n",
    "# making relevant dataframes to calculate the target variable\n",
    "train_data.drop(['target', 'loan_type'], axis=1, inplace=True)\n",
    "test_data.drop(['loan_type'], axis=1, inplace=True)\n",
    "\n",
    "# Equating the dataframe\n",
    "X_train =train_data\n",
    "\n",
    "# Shape of X_train and y_train\n",
    "print(\"X_train shape: \", X_train.shape, \"y_train shape: \", y_train.shape)\n",
    "\n",
    "# Random Forest classifier\n",
    "# Train Random Forest classifier model\n",
    "model_random_forest_classifier = RandomForestClassifier()\n",
    "model_random_forest_classifier.fit(X_train, y_train)\n",
    "\n",
    "# Make predictions of Random Forest classifier model\n",
    "predictions_rfc = model_random_forest_classifier.predict(test_data)\n",
    "\n",
    "# making use fo test_df to make dataframe with the predictions of Random forest classifier model\n",
    "test_df['target'] = predictions_rfc\n",
    "sub_rfc = test_df[['ID', 'target']]\n",
    "sub_rfc.head()\n",
    "\n",
    "# Converting dataframe to a csv file\n",
    "sub_rfc.to_csv('submission_RFC.csv', index=False)\n",
    "\n",
    "# Logistic Regression\n",
    "# Train Logistic Regression model\n",
    "model_logistic_regression = LogisticRegression(random_state=0, max_iter=10000)\n",
    "model_logistic_regression.fit(X_train, y_train)\n",
    "\n",
    "# Make predictions of Logistic Regression model\n",
    "predictions_lr = model_logistic_regression.predict(test_data)\n",
    "\n",
    "# Making use fo test_df to make dataframe with the predictions of Logistic Regression model\n",
    "test_df['target'] = predictions_lr\n",
    "sub_lr = test_df[['ID', 'target']]\n",
    "sub_lr.head()\n",
    "\n",
    "# Converting dataframe to a csv file\n",
    "sub_lr.to_csv('submission_LR.csv', index=False)\n",
    "\n",
    "# Get coefficients and intercept of Logistic Regression\n",
    "coefficients = model_logistic_regression.coef_  # Coefficients for the features\n",
    "intercept = model_logistic_regression.intercept_  # Intercept term\n",
    "print(\"Logistic regression Coef: \", coefficients)\n",
    "print(\"Logistic regression Intercept: \", intercept)\n",
    "print(\"P(y=1∣X)= 1/(1+ ((e) ^ (-)(intercept + coefficient_1 * x_1 + coefficient_2 * x_2)\")\n"
   ]
  },
  {
   "cell_type": "code",
   "execution_count": null,
   "id": "4842ce6d-f353-464a-a0c1-0d4e94be2080",
   "metadata": {},
   "outputs": [],
   "source": []
  }
 ],
 "metadata": {
  "kernelspec": {
   "display_name": "anaconda-panel-2023.05-py310",
   "language": "python",
   "name": "conda-env-anaconda-panel-2023.05-py310-py"
  },
  "language_info": {
   "codemirror_mode": {
    "name": "ipython",
    "version": 3
   },
   "file_extension": ".py",
   "mimetype": "text/x-python",
   "name": "python",
   "nbconvert_exporter": "python",
   "pygments_lexer": "ipython3",
   "version": "3.11.5"
  }
 },
 "nbformat": 4,
 "nbformat_minor": 5
}
