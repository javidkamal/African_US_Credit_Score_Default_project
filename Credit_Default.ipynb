{
 "cells": [
  {
   "cell_type": "code",
   "execution_count": 1,
   "id": "25645f68-b9b2-49d2-ab71-cffb7fd4a43b",
   "metadata": {},
   "outputs": [
    {
     "name": "stdout",
     "output_type": "stream",
     "text": [
      "X_train shape:  (54923, 30) y_train shape:  (54923,) X_test shape:  (13731, 30) y_test shape:  (13731,)\n",
      "Accuracy score of Random Forest Classifier:  0.9908965115432233\n",
      "F-1 score of Random Forest Classifier:  0.6958637469586375\n",
      "Accuracy score of Logistic Regression:  0.9845604835773069\n",
      "F-1 score of Logistic Regression:  0.29333333333333333\n"
     ]
    },
    {
     "data": {
      "image/png": "[encoded data removed]",
      "text/plain": [
       "<Figure size 640x480 with 2 Axes>"
      ]
     },
     "metadata": {},
     "output_type": "display_data"
    },
    {
     "name": "stdout",
     "output_type": "stream",
     "text": [
      "Classification report: \n",
      "              precision    recall  f1-score   support\n",
      "\n",
      "           0       0.99      1.00      0.99     13487\n",
      "           1       0.79      0.18      0.29       244\n",
      "\n",
      "    accuracy                           0.98     13731\n",
      "   macro avg       0.89      0.59      0.64     13731\n",
      "weighted avg       0.98      0.98      0.98     13731\n",
      "\n",
      "Logistic regression Coef:  [[-1.95168452e-05  2.35267069e-05 -3.42811051e-01 -7.62375770e-03\n",
      "  -7.22568202e-03  7.00819475e-03 -8.14493554e-05 -4.68533824e-02\n",
      "  -4.60999313e-02  2.18564205e-06 -4.32065380e-05  4.80853618e-06\n",
      "  -2.14954411e-05  2.69991203e-04  6.82569016e-06 -1.27198856e-06\n",
      "  -9.00634720e-06 -2.95730544e-05 -9.63075718e-06 -3.72515355e-06\n",
      "   1.92808388e-05 -2.32425150e-10 -1.74853983e-10  4.33386792e-05\n",
      "  -1.10671132e-09 -2.10948771e-04 -8.13399744e-05 -2.29697728e-04\n",
      "  -5.32988665e-04 -8.44507112e-06]]\n",
      "Logistic regression Intercept:  [-0.04693483]\n",
      "P(y=1∣X)= 1/(1+ ((e) ^ (-)(intercept + coefficient_1 * x_1 + coefficient_2 * x_2\n"
     ]
    }
   ],
   "source": [
    "import pandas as pd\n",
    "from sklearn.linear_model import LogisticRegression\n",
    "from sklearn.model_selection import train_test_split\n",
    "from sklearn.ensemble import RandomForestClassifier\n",
    "from sklearn.metrics import f1_score, accuracy_score\n",
    "from sklearn.metrics import confusion_matrix\n",
    "import seaborn as sns\n",
    "import matplotlib.pyplot as plt\n",
    "from sklearn.metrics import classification_report\n",
    "\n",
    "\n",
    "# Load data\n",
    "df_train = pd.read_csv(\"Train.csv\")\n",
    "\n",
    "# Extracting the target variable\n",
    "y = df_train['target']\n",
    "y=y.values\n",
    "\n",
    "# Getting rid of unused columns\n",
    "df_train.drop(columns = ['target', 'ID','customer_id','country_id','tbl_loan_id','lender_id', 'disbursement_date','due_date'], axis=1, inplace=True)\n",
    "\n",
    "# making dummy variables of train and test data dataframes\n",
    "dummies_loan_type = pd.get_dummies(df_train['loan_type'])\n",
    "dummies_repeat_type = pd.get_dummies(df_train['New_versus_Repeat'])\n",
    "\n",
    "# Concatenating dataframe with dummy variables\n",
    "df = pd.concat([df_train, dummies_repeat_type, dummies_loan_type], axis=1)\n",
    "\n",
    "# Getting rid of unused columns\n",
    "df.drop(columns = ['loan_type', 'New_versus_Repeat'], axis = 1, inplace = True)\n",
    "\n",
    "# Equating dataframes, extracting the columns\n",
    "X=df\n",
    "X=X.values\n",
    "\n",
    "X_train, X_test, y_train, y_test = train_test_split(X, y, test_size=0.2, random_state=42)\n",
    "\n",
    "# Shapes\n",
    "print(\"X_train shape: \", X_train.shape, \"y_train shape: \", y_train.shape, \"X_test shape: \", X_test.shape, \"y_test shape: \", y_test.shape)\n",
    "\n",
    "# Random Forest Classifier\n",
    "# Fitting the Random Forest classifier model\n",
    "model_random_forest_classifier = RandomForestClassifier(random_state=1)\n",
    "model_random_forest_classifier.fit(X_train, y_train)\n",
    "\n",
    "# Predicting the Random Forest classifier model\n",
    "y_hat_rfc = model_random_forest_classifier.predict(X_test)\n",
    "\n",
    "# Evaluation metrics of Random Forest classifier\n",
    "accuracy_random_forest_classifier = accuracy_score(y_test, y_hat_rfc)\n",
    "print(\"Accuracy score of Random Forest Classifier: \", accuracy_random_forest_classifier)\n",
    "f1_random_forest_classifier = f1_score(y_test, y_hat_rfc)\n",
    "print(\"F-1 score of Random Forest Classifier: \", f1_random_forest_classifier)\n",
    "\n",
    "# Logistic regression\n",
    "# Fitting the Logistic Regression model\n",
    "model_logistic_regression = LogisticRegression(random_state=0, max_iter=10000)\n",
    "model_logistic_regression.fit(X_train, y_train)\n",
    "\n",
    "# Predicting the Logistic Regression model\n",
    "y_hat_lr = model_logistic_regression.predict(X_test)\n",
    "\n",
    "# Evaluation metrics of Logistic Regression\n",
    "accuracy_logistic_regression = accuracy_score(y_test, y_hat_lr)\n",
    "print(\"Accuracy score of Logistic Regression: \", accuracy_logistic_regression)\n",
    "f1_logistic_regression = f1_score(y_test, y_hat_lr)\n",
    "print(\"F-1 score of Logistic Regression: \", f1_logistic_regression)\n",
    "\n",
    "# Confusion matrix\n",
    "cm = confusion_matrix(y_test, y_hat_lr)\n",
    "sns.heatmap(cm, annot=True, fmt='d')\n",
    "plt.xlabel('Predicted')\n",
    "plt.ylabel('True')\n",
    "plt.title('Confusion Matrix')\n",
    "plt.show()\n",
    "\n",
    "# Classification report\n",
    "print(\"Classification report: \")\n",
    "print(classification_report(y_test, y_hat_lr))\n",
    "\n",
    "# Get coefficients and intercept of Logistic Regression\n",
    "coefficients = model_logistic_regression.coef_  # Coefficients for the features\n",
    "intercept = model_logistic_regression.intercept_  # Intercept term\n",
    "print(\"Logistic regression Coef: \", coefficients)\n",
    "print(\"Logistic regression Intercept: \", intercept)\n",
    "print(\"P(y=1∣X)= 1/(1+ ((e) ^ (-)(intercept + coefficient_1 * x_1 + coefficient_2 * x_2\")\n"
   ]
  },
  {
   "cell_type": "code",
   "execution_count": null,
   "id": "393ac504-b446-4c75-aa62-7f4e7434ca74",
   "metadata": {},
   "outputs": [],
   "source": []
  }
 ],
 "metadata": {
  "kernelspec": {
   "display_name": "anaconda-panel-2023.05-py310",
   "language": "python",
   "name": "conda-env-anaconda-panel-2023.05-py310-py"
  },
  "language_info": {
   "codemirror_mode": {
    "name": "ipython",
    "version": 3
   },
   "file_extension": ".py",
   "mimetype": "text/x-python",
   "name": "python",
   "nbconvert_exporter": "python",
   "pygments_lexer": "ipython3",
   "version": "3.11.5"
  }
 },
 "nbformat": 4,
 "nbformat_minor": 5
}
